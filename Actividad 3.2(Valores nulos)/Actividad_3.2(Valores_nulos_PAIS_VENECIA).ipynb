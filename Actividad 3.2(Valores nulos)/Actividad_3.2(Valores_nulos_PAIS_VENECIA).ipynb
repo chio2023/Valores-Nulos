{
 "cells": [
  {
   "cell_type": "markdown",
   "metadata": {},
   "source": [
    "                                         VALORES NULOS ACTIVIDAD 3.2 (PAIS VENECIA)"
   ]
  },
  {
   "cell_type": "code",
   "execution_count": 4,
   "metadata": {},
   "outputs": [],
   "source": [
    "import pandas as pd\n",
    "import numpy as np\n",
    "import matplotlib.pyplot as plt\n",
    "import seaborn as sns"
   ]
  },
  {
   "cell_type": "code",
   "execution_count": 5,
   "metadata": {},
   "outputs": [
    {
     "data": {
      "text/html": [
       "<div>\n",
       "<style scoped>\n",
       "    .dataframe tbody tr th:only-of-type {\n",
       "        vertical-align: middle;\n",
       "    }\n",
       "\n",
       "    .dataframe tbody tr th {\n",
       "        vertical-align: top;\n",
       "    }\n",
       "\n",
       "    .dataframe thead th {\n",
       "        text-align: right;\n",
       "    }\n",
       "</style>\n",
       "<table border=\"1\" class=\"dataframe\">\n",
       "  <thead>\n",
       "    <tr style=\"text-align: right;\">\n",
       "      <th></th>\n",
       "      <th>id</th>\n",
       "      <th>name</th>\n",
       "      <th>description</th>\n",
       "      <th>neighborhood_overview</th>\n",
       "      <th>host_id</th>\n",
       "      <th>host_name</th>\n",
       "      <th>host_since</th>\n",
       "      <th>host_location</th>\n",
       "      <th>host_about</th>\n",
       "      <th>host_response_time</th>\n",
       "      <th>...</th>\n",
       "      <th>number_of_reviews_ltm</th>\n",
       "      <th>number_of_reviews_l30d</th>\n",
       "      <th>review_scores_rating</th>\n",
       "      <th>review_scores_accuracy</th>\n",
       "      <th>review_scores_cleanliness</th>\n",
       "      <th>review_scores_checkin</th>\n",
       "      <th>review_scores_communication</th>\n",
       "      <th>review_scores_location</th>\n",
       "      <th>review_scores_value</th>\n",
       "      <th>reviews_per_month</th>\n",
       "    </tr>\n",
       "  </thead>\n",
       "  <tbody>\n",
       "    <tr>\n",
       "      <th>0</th>\n",
       "      <td>6.623000e+03</td>\n",
       "      <td>Venice Blue on Canal apartment</td>\n",
       "      <td>I'm thrilled to share my \"Blue on Venice Canal...</td>\n",
       "      <td>Close by is the Frari Church (known as Tiziano...</td>\n",
       "      <td>15016</td>\n",
       "      <td>Francesca</td>\n",
       "      <td>27/04/2009</td>\n",
       "      <td>Venice, Italy</td>\n",
       "      <td>I'm usually happy and busy, often compelled to...</td>\n",
       "      <td>within an hour</td>\n",
       "      <td>...</td>\n",
       "      <td>2</td>\n",
       "      <td>0</td>\n",
       "      <td>4.94</td>\n",
       "      <td>4.96</td>\n",
       "      <td>4.99</td>\n",
       "      <td>4.89</td>\n",
       "      <td>4.86</td>\n",
       "      <td>4.96</td>\n",
       "      <td>4.92</td>\n",
       "      <td>1.03</td>\n",
       "    </tr>\n",
       "    <tr>\n",
       "      <th>1</th>\n",
       "      <td>2.711600e+04</td>\n",
       "      <td>Junior Suite with balcony overlooking canal</td>\n",
       "      <td>Few steps from Saint Mark square, on a picture...</td>\n",
       "      <td>The area is very beautiful and characteristic,...</td>\n",
       "      <td>116144</td>\n",
       "      <td>GiÃ²&amp;GiÃ²</td>\n",
       "      <td>30/04/2010</td>\n",
       "      <td>Venice, Italy</td>\n",
       "      <td>NaN</td>\n",
       "      <td>NaN</td>\n",
       "      <td>...</td>\n",
       "      <td>0</td>\n",
       "      <td>0</td>\n",
       "      <td>4.84</td>\n",
       "      <td>4.84</td>\n",
       "      <td>4.90</td>\n",
       "      <td>4.78</td>\n",
       "      <td>4.81</td>\n",
       "      <td>4.94</td>\n",
       "      <td>4.78</td>\n",
       "      <td>2.41</td>\n",
       "    </tr>\n",
       "    <tr>\n",
       "      <th>2</th>\n",
       "      <td>4.452700e+04</td>\n",
       "      <td>Historical Luxury Apartment on Calm Sunny Canal</td>\n",
       "      <td>Descend a spiral staircase to discover an apar...</td>\n",
       "      <td>Cannaregio is a well-connected, truly Venetian...</td>\n",
       "      <td>120215</td>\n",
       "      <td>Marc &amp; Elisabeth</td>\n",
       "      <td>07/05/2010</td>\n",
       "      <td>Venice, Italy</td>\n",
       "      <td>I (Marc) have lived in Venice all my life, stu...</td>\n",
       "      <td>within an hour</td>\n",
       "      <td>...</td>\n",
       "      <td>22</td>\n",
       "      <td>0</td>\n",
       "      <td>4.86</td>\n",
       "      <td>4.82</td>\n",
       "      <td>4.73</td>\n",
       "      <td>4.93</td>\n",
       "      <td>4.93</td>\n",
       "      <td>4.90</td>\n",
       "      <td>4.69</td>\n",
       "      <td>0.87</td>\n",
       "    </tr>\n",
       "    <tr>\n",
       "      <th>3</th>\n",
       "      <td>4.738300e+04</td>\n",
       "      <td>Ca' Barba B&amp;B: room n102 (jacuzzi shower)</td>\n",
       "      <td>Ca' Barb B&amp;B, a few steps away from Rialto bri...</td>\n",
       "      <td>San Polo is highly rated by guests for walking...</td>\n",
       "      <td>214390</td>\n",
       "      <td>Alessandro</td>\n",
       "      <td>27/08/2010</td>\n",
       "      <td>Venice, Italy</td>\n",
       "      <td>I was born in Venice and grown... in Venice......</td>\n",
       "      <td>within an hour</td>\n",
       "      <td>...</td>\n",
       "      <td>28</td>\n",
       "      <td>0</td>\n",
       "      <td>4.93</td>\n",
       "      <td>4.95</td>\n",
       "      <td>4.99</td>\n",
       "      <td>4.98</td>\n",
       "      <td>4.98</td>\n",
       "      <td>4.95</td>\n",
       "      <td>4.88</td>\n",
       "      <td>2.35</td>\n",
       "    </tr>\n",
       "    <tr>\n",
       "      <th>4</th>\n",
       "      <td>4.754900e+04</td>\n",
       "      <td>Ca' Barba Apartment</td>\n",
       "      <td>The Apartment is arranged on two floors. On th...</td>\n",
       "      <td>At Ca' Barba Venetian life opens up before you...</td>\n",
       "      <td>215652</td>\n",
       "      <td>Caterina E Alessandro</td>\n",
       "      <td>28/08/2010</td>\n",
       "      <td>Venice, Italy</td>\n",
       "      <td>Ciao everybody, \\r\\nwe are brother and sister,...</td>\n",
       "      <td>within an hour</td>\n",
       "      <td>...</td>\n",
       "      <td>0</td>\n",
       "      <td>0</td>\n",
       "      <td>4.80</td>\n",
       "      <td>4.92</td>\n",
       "      <td>4.86</td>\n",
       "      <td>4.99</td>\n",
       "      <td>4.96</td>\n",
       "      <td>4.97</td>\n",
       "      <td>4.82</td>\n",
       "      <td>0.93</td>\n",
       "    </tr>\n",
       "    <tr>\n",
       "      <th>...</th>\n",
       "      <td>...</td>\n",
       "      <td>...</td>\n",
       "      <td>...</td>\n",
       "      <td>...</td>\n",
       "      <td>...</td>\n",
       "      <td>...</td>\n",
       "      <td>...</td>\n",
       "      <td>...</td>\n",
       "      <td>...</td>\n",
       "      <td>...</td>\n",
       "      <td>...</td>\n",
       "      <td>...</td>\n",
       "      <td>...</td>\n",
       "      <td>...</td>\n",
       "      <td>...</td>\n",
       "      <td>...</td>\n",
       "      <td>...</td>\n",
       "      <td>...</td>\n",
       "      <td>...</td>\n",
       "      <td>...</td>\n",
       "      <td>...</td>\n",
       "    </tr>\n",
       "    <tr>\n",
       "      <th>8317</th>\n",
       "      <td>1.237620e+18</td>\n",
       "      <td>double or twin deluxe room</td>\n",
       "      <td>Youâ€™ll love the stylish decor of this charmi...</td>\n",
       "      <td>NaN</td>\n",
       "      <td>597681399</td>\n",
       "      <td>Al Mamun</td>\n",
       "      <td>22/08/2024</td>\n",
       "      <td>NaN</td>\n",
       "      <td>NaN</td>\n",
       "      <td>NaN</td>\n",
       "      <td>...</td>\n",
       "      <td>0</td>\n",
       "      <td>0</td>\n",
       "      <td>NaN</td>\n",
       "      <td>NaN</td>\n",
       "      <td>NaN</td>\n",
       "      <td>NaN</td>\n",
       "      <td>NaN</td>\n",
       "      <td>NaN</td>\n",
       "      <td>NaN</td>\n",
       "      <td>NaN</td>\n",
       "    </tr>\n",
       "    <tr>\n",
       "      <th>8318</th>\n",
       "      <td>1.237620e+18</td>\n",
       "      <td>double or twin deluxe room</td>\n",
       "      <td>Youâ€™ll love the stylish decor of this charmi...</td>\n",
       "      <td>NaN</td>\n",
       "      <td>597681399</td>\n",
       "      <td>Al Mamun</td>\n",
       "      <td>22/08/2024</td>\n",
       "      <td>NaN</td>\n",
       "      <td>NaN</td>\n",
       "      <td>NaN</td>\n",
       "      <td>...</td>\n",
       "      <td>0</td>\n",
       "      <td>0</td>\n",
       "      <td>NaN</td>\n",
       "      <td>NaN</td>\n",
       "      <td>NaN</td>\n",
       "      <td>NaN</td>\n",
       "      <td>NaN</td>\n",
       "      <td>NaN</td>\n",
       "      <td>NaN</td>\n",
       "      <td>NaN</td>\n",
       "    </tr>\n",
       "    <tr>\n",
       "      <th>8319</th>\n",
       "      <td>1.237690e+18</td>\n",
       "      <td>triple room</td>\n",
       "      <td>Youâ€™ll love the stylish decor of this charmi...</td>\n",
       "      <td>NaN</td>\n",
       "      <td>597681399</td>\n",
       "      <td>Al Mamun</td>\n",
       "      <td>22/08/2024</td>\n",
       "      <td>NaN</td>\n",
       "      <td>NaN</td>\n",
       "      <td>NaN</td>\n",
       "      <td>...</td>\n",
       "      <td>0</td>\n",
       "      <td>0</td>\n",
       "      <td>NaN</td>\n",
       "      <td>NaN</td>\n",
       "      <td>NaN</td>\n",
       "      <td>NaN</td>\n",
       "      <td>NaN</td>\n",
       "      <td>NaN</td>\n",
       "      <td>NaN</td>\n",
       "      <td>NaN</td>\n",
       "    </tr>\n",
       "    <tr>\n",
       "      <th>8320</th>\n",
       "      <td>1.237700e+18</td>\n",
       "      <td>triple room</td>\n",
       "      <td>Youâ€™ll love the stylish decor of this charmi...</td>\n",
       "      <td>NaN</td>\n",
       "      <td>597681399</td>\n",
       "      <td>Al Mamun</td>\n",
       "      <td>22/08/2024</td>\n",
       "      <td>NaN</td>\n",
       "      <td>NaN</td>\n",
       "      <td>NaN</td>\n",
       "      <td>...</td>\n",
       "      <td>0</td>\n",
       "      <td>0</td>\n",
       "      <td>NaN</td>\n",
       "      <td>NaN</td>\n",
       "      <td>NaN</td>\n",
       "      <td>NaN</td>\n",
       "      <td>NaN</td>\n",
       "      <td>NaN</td>\n",
       "      <td>NaN</td>\n",
       "      <td>NaN</td>\n",
       "    </tr>\n",
       "    <tr>\n",
       "      <th>8321</th>\n",
       "      <td>1.237710e+18</td>\n",
       "      <td>triple room</td>\n",
       "      <td>Youâ€™ll love the stylish decor of this charmi...</td>\n",
       "      <td>NaN</td>\n",
       "      <td>597681399</td>\n",
       "      <td>Al Mamun</td>\n",
       "      <td>22/08/2024</td>\n",
       "      <td>NaN</td>\n",
       "      <td>NaN</td>\n",
       "      <td>NaN</td>\n",
       "      <td>...</td>\n",
       "      <td>0</td>\n",
       "      <td>0</td>\n",
       "      <td>NaN</td>\n",
       "      <td>NaN</td>\n",
       "      <td>NaN</td>\n",
       "      <td>NaN</td>\n",
       "      <td>NaN</td>\n",
       "      <td>NaN</td>\n",
       "      <td>NaN</td>\n",
       "      <td>NaN</td>\n",
       "    </tr>\n",
       "  </tbody>\n",
       "</table>\n",
       "<p>8322 rows × 50 columns</p>\n",
       "</div>"
      ],
      "text/plain": [
       "                id                                             name  \\\n",
       "0     6.623000e+03                   Venice Blue on Canal apartment   \n",
       "1     2.711600e+04      Junior Suite with balcony overlooking canal   \n",
       "2     4.452700e+04  Historical Luxury Apartment on Calm Sunny Canal   \n",
       "3     4.738300e+04        Ca' Barba B&B: room n102 (jacuzzi shower)   \n",
       "4     4.754900e+04                              Ca' Barba Apartment   \n",
       "...            ...                                              ...   \n",
       "8317  1.237620e+18                       double or twin deluxe room   \n",
       "8318  1.237620e+18                       double or twin deluxe room   \n",
       "8319  1.237690e+18                                      triple room   \n",
       "8320  1.237700e+18                                      triple room   \n",
       "8321  1.237710e+18                                      triple room   \n",
       "\n",
       "                                            description  \\\n",
       "0     I'm thrilled to share my \"Blue on Venice Canal...   \n",
       "1     Few steps from Saint Mark square, on a picture...   \n",
       "2     Descend a spiral staircase to discover an apar...   \n",
       "3     Ca' Barb B&B, a few steps away from Rialto bri...   \n",
       "4     The Apartment is arranged on two floors. On th...   \n",
       "...                                                 ...   \n",
       "8317  Youâ€™ll love the stylish decor of this charmi...   \n",
       "8318  Youâ€™ll love the stylish decor of this charmi...   \n",
       "8319  Youâ€™ll love the stylish decor of this charmi...   \n",
       "8320  Youâ€™ll love the stylish decor of this charmi...   \n",
       "8321  Youâ€™ll love the stylish decor of this charmi...   \n",
       "\n",
       "                                  neighborhood_overview    host_id  \\\n",
       "0     Close by is the Frari Church (known as Tiziano...      15016   \n",
       "1     The area is very beautiful and characteristic,...     116144   \n",
       "2     Cannaregio is a well-connected, truly Venetian...     120215   \n",
       "3     San Polo is highly rated by guests for walking...     214390   \n",
       "4     At Ca' Barba Venetian life opens up before you...     215652   \n",
       "...                                                 ...        ...   \n",
       "8317                                                NaN  597681399   \n",
       "8318                                                NaN  597681399   \n",
       "8319                                                NaN  597681399   \n",
       "8320                                                NaN  597681399   \n",
       "8321                                                NaN  597681399   \n",
       "\n",
       "                  host_name  host_since  host_location  \\\n",
       "0                 Francesca  27/04/2009  Venice, Italy   \n",
       "1                 GiÃ²&GiÃ²  30/04/2010  Venice, Italy   \n",
       "2          Marc & Elisabeth  07/05/2010  Venice, Italy   \n",
       "3                Alessandro  27/08/2010  Venice, Italy   \n",
       "4     Caterina E Alessandro  28/08/2010  Venice, Italy   \n",
       "...                     ...         ...            ...   \n",
       "8317               Al Mamun  22/08/2024            NaN   \n",
       "8318               Al Mamun  22/08/2024            NaN   \n",
       "8319               Al Mamun  22/08/2024            NaN   \n",
       "8320               Al Mamun  22/08/2024            NaN   \n",
       "8321               Al Mamun  22/08/2024            NaN   \n",
       "\n",
       "                                             host_about host_response_time  \\\n",
       "0     I'm usually happy and busy, often compelled to...     within an hour   \n",
       "1                                                   NaN                NaN   \n",
       "2     I (Marc) have lived in Venice all my life, stu...     within an hour   \n",
       "3     I was born in Venice and grown... in Venice......     within an hour   \n",
       "4     Ciao everybody, \\r\\nwe are brother and sister,...     within an hour   \n",
       "...                                                 ...                ...   \n",
       "8317                                                NaN                NaN   \n",
       "8318                                                NaN                NaN   \n",
       "8319                                                NaN                NaN   \n",
       "8320                                                NaN                NaN   \n",
       "8321                                                NaN                NaN   \n",
       "\n",
       "      ... number_of_reviews_ltm number_of_reviews_l30d review_scores_rating  \\\n",
       "0     ...                     2                      0                 4.94   \n",
       "1     ...                     0                      0                 4.84   \n",
       "2     ...                    22                      0                 4.86   \n",
       "3     ...                    28                      0                 4.93   \n",
       "4     ...                     0                      0                 4.80   \n",
       "...   ...                   ...                    ...                  ...   \n",
       "8317  ...                     0                      0                  NaN   \n",
       "8318  ...                     0                      0                  NaN   \n",
       "8319  ...                     0                      0                  NaN   \n",
       "8320  ...                     0                      0                  NaN   \n",
       "8321  ...                     0                      0                  NaN   \n",
       "\n",
       "     review_scores_accuracy review_scores_cleanliness  review_scores_checkin  \\\n",
       "0                      4.96                      4.99                   4.89   \n",
       "1                      4.84                      4.90                   4.78   \n",
       "2                      4.82                      4.73                   4.93   \n",
       "3                      4.95                      4.99                   4.98   \n",
       "4                      4.92                      4.86                   4.99   \n",
       "...                     ...                       ...                    ...   \n",
       "8317                    NaN                       NaN                    NaN   \n",
       "8318                    NaN                       NaN                    NaN   \n",
       "8319                    NaN                       NaN                    NaN   \n",
       "8320                    NaN                       NaN                    NaN   \n",
       "8321                    NaN                       NaN                    NaN   \n",
       "\n",
       "      review_scores_communication review_scores_location review_scores_value  \\\n",
       "0                            4.86                   4.96                4.92   \n",
       "1                            4.81                   4.94                4.78   \n",
       "2                            4.93                   4.90                4.69   \n",
       "3                            4.98                   4.95                4.88   \n",
       "4                            4.96                   4.97                4.82   \n",
       "...                           ...                    ...                 ...   \n",
       "8317                          NaN                    NaN                 NaN   \n",
       "8318                          NaN                    NaN                 NaN   \n",
       "8319                          NaN                    NaN                 NaN   \n",
       "8320                          NaN                    NaN                 NaN   \n",
       "8321                          NaN                    NaN                 NaN   \n",
       "\n",
       "      reviews_per_month  \n",
       "0                  1.03  \n",
       "1                  2.41  \n",
       "2                  0.87  \n",
       "3                  2.35  \n",
       "4                  0.93  \n",
       "...                 ...  \n",
       "8317                NaN  \n",
       "8318                NaN  \n",
       "8319                NaN  \n",
       "8320                NaN  \n",
       "8321                NaN  \n",
       "\n",
       "[8322 rows x 50 columns]"
      ]
     },
     "execution_count": 5,
     "metadata": {},
     "output_type": "execute_result"
    }
   ],
   "source": [
    "#Cargar desde un archivo .csv sin indice\n",
    "data=pd.read_csv(\"Venecia_pais.csv\")\n",
    "data"
   ]
  },
  {
   "cell_type": "code",
   "execution_count": 6,
   "metadata": {},
   "outputs": [
    {
     "data": {
      "text/plain": [
       "id                                 0\n",
       "name                               0\n",
       "description                      319\n",
       "neighborhood_overview           3422\n",
       "host_id                            0\n",
       "host_name                          0\n",
       "host_since                         0\n",
       "host_location                   1966\n",
       "host_about                      3879\n",
       "host_response_time               856\n",
       "host_response_rate               856\n",
       "host_acceptance_rate             574\n",
       "neighbourhood                   3422\n",
       "neighbourhood_cleansed             0\n",
       "neighbourhood_group_cleansed       0\n",
       "latitude                           0\n",
       "longitude                          0\n",
       "property_type                      0\n",
       "room_type                          0\n",
       "accommodates                       0\n",
       "bathrooms                        906\n",
       "bathrooms_text                    11\n",
       "bedrooms                         171\n",
       "beds                             913\n",
       "amenities                          0\n",
       "price                            903\n",
       "minimum_nights                     0\n",
       "maximum_nights                     0\n",
       "minimum_minimum_nights             0\n",
       "maximum_minimum_nights             0\n",
       "minimum_maximum_nights             0\n",
       "maximum_maximum_nights             0\n",
       "minimum_nights_avg_ntm             0\n",
       "maximum_nights_avg_ntm             0\n",
       "availability_30                    0\n",
       "availability_60                    0\n",
       "availability_90                    0\n",
       "availability_365                   0\n",
       "calendar_last_scraped              0\n",
       "number_of_reviews                  0\n",
       "number_of_reviews_ltm              0\n",
       "number_of_reviews_l30d             0\n",
       "review_scores_rating             780\n",
       "review_scores_accuracy           780\n",
       "review_scores_cleanliness        780\n",
       "review_scores_checkin            780\n",
       "review_scores_communication      780\n",
       "review_scores_location           781\n",
       "review_scores_value              780\n",
       "reviews_per_month                780\n",
       "dtype: int64"
      ]
     },
     "execution_count": 6,
     "metadata": {},
     "output_type": "execute_result"
    }
   ],
   "source": [
    "#Identificar cuantos valores nulos tengo por columnas\n",
    "valores_nulos=data.isnull().sum()\n",
    "valores_nulos"
   ]
  },
  {
   "cell_type": "code",
   "execution_count": 7,
   "metadata": {},
   "outputs": [
    {
     "data": {
      "text/plain": [
       "np.int64(24439)"
      ]
     },
     "execution_count": 7,
     "metadata": {},
     "output_type": "execute_result"
    }
   ],
   "source": [
    "#Identificar valores nulos por dataframe\n",
    "valores_nulos=data.isnull().sum().sum()\n",
    "valores_nulos"
   ]
  },
  {
   "cell_type": "code",
   "execution_count": 23,
   "metadata": {},
   "outputs": [
    {
     "data": {
      "text/plain": [
       "np.int64(24120)"
      ]
     },
     "execution_count": 23,
     "metadata": {},
     "output_type": "execute_result"
    }
   ],
   "source": [
    "#Identificar cuantos valores nulos tengo por columnas\n",
    "valores_nulos=data.isnull().sum().sum()\n",
    "valores_nulos"
   ]
  },
  {
   "cell_type": "markdown",
   "metadata": {},
   "source": [
    "Métodos de Sustitución de Valores Nulos"
   ]
  },
  {
   "cell_type": "code",
   "execution_count": null,
   "metadata": {},
   "outputs": [],
   "source": [
    "#columna---description------\n",
    "#Sustituir valores nulos por un string en concreto\n",
    "data[\"description\"]=data[\"description\"].fillna(\"No disponible\")"
   ]
  },
  {
   "cell_type": "code",
   "execution_count": 22,
   "metadata": {},
   "outputs": [
    {
     "data": {
      "text/plain": [
       "id                                 0\n",
       "name                               0\n",
       "description                        0\n",
       "neighborhood_overview           3422\n",
       "host_id                            0\n",
       "host_name                          0\n",
       "host_since                         0\n",
       "host_location                   1966\n",
       "host_about                      3879\n",
       "host_response_time               856\n",
       "host_response_rate               856\n",
       "host_acceptance_rate             574\n",
       "neighbourhood                   3422\n",
       "neighbourhood_cleansed             0\n",
       "neighbourhood_group_cleansed       0\n",
       "latitude                           0\n",
       "longitude                          0\n",
       "property_type                      0\n",
       "room_type                          0\n",
       "accommodates                       0\n",
       "bathrooms                        906\n",
       "bathrooms_text                    11\n",
       "bedrooms                         171\n",
       "beds                             913\n",
       "amenities                          0\n",
       "price                            903\n",
       "minimum_nights                     0\n",
       "maximum_nights                     0\n",
       "minimum_minimum_nights             0\n",
       "maximum_minimum_nights             0\n",
       "minimum_maximum_nights             0\n",
       "maximum_maximum_nights             0\n",
       "minimum_nights_avg_ntm             0\n",
       "maximum_nights_avg_ntm             0\n",
       "availability_30                    0\n",
       "availability_60                    0\n",
       "availability_90                    0\n",
       "availability_365                   0\n",
       "calendar_last_scraped              0\n",
       "number_of_reviews                  0\n",
       "number_of_reviews_ltm              0\n",
       "number_of_reviews_l30d             0\n",
       "review_scores_rating             780\n",
       "review_scores_accuracy           780\n",
       "review_scores_cleanliness        780\n",
       "review_scores_checkin            780\n",
       "review_scores_communication      780\n",
       "review_scores_location           781\n",
       "review_scores_value              780\n",
       "reviews_per_month                780\n",
       "dtype: int64"
      ]
     },
     "execution_count": 22,
     "metadata": {},
     "output_type": "execute_result"
    }
   ],
   "source": [
    "#Corroboramos valores nulos\n",
    "valores_nulos=data.isnull().sum()\n",
    "valores_nulos"
   ]
  },
  {
   "cell_type": "code",
   "execution_count": 25,
   "metadata": {},
   "outputs": [],
   "source": [
    "#columna---neighborhood_overview ------\n",
    "#Sustituir valores nulos por un string en concreto\n",
    "data[\"neighborhood_overview\"]=data[\"neighborhood_overview\"].fillna(\"No disponible\")"
   ]
  },
  {
   "cell_type": "code",
   "execution_count": 26,
   "metadata": {},
   "outputs": [
    {
     "data": {
      "text/plain": [
       "id                                 0\n",
       "name                               0\n",
       "description                        0\n",
       "neighborhood_overview              0\n",
       "host_id                            0\n",
       "host_name                          0\n",
       "host_since                         0\n",
       "host_location                   1966\n",
       "host_about                      3879\n",
       "host_response_time               856\n",
       "host_response_rate               856\n",
       "host_acceptance_rate             574\n",
       "neighbourhood                   3422\n",
       "neighbourhood_cleansed             0\n",
       "neighbourhood_group_cleansed       0\n",
       "latitude                           0\n",
       "longitude                          0\n",
       "property_type                      0\n",
       "room_type                          0\n",
       "accommodates                       0\n",
       "bathrooms                        906\n",
       "bathrooms_text                    11\n",
       "bedrooms                         171\n",
       "beds                             913\n",
       "amenities                          0\n",
       "price                            903\n",
       "minimum_nights                     0\n",
       "maximum_nights                     0\n",
       "minimum_minimum_nights             0\n",
       "maximum_minimum_nights             0\n",
       "minimum_maximum_nights             0\n",
       "maximum_maximum_nights             0\n",
       "minimum_nights_avg_ntm             0\n",
       "maximum_nights_avg_ntm             0\n",
       "availability_30                    0\n",
       "availability_60                    0\n",
       "availability_90                    0\n",
       "availability_365                   0\n",
       "calendar_last_scraped              0\n",
       "number_of_reviews                  0\n",
       "number_of_reviews_ltm              0\n",
       "number_of_reviews_l30d             0\n",
       "review_scores_rating             780\n",
       "review_scores_accuracy           780\n",
       "review_scores_cleanliness        780\n",
       "review_scores_checkin            780\n",
       "review_scores_communication      780\n",
       "review_scores_location           781\n",
       "review_scores_value              780\n",
       "reviews_per_month                780\n",
       "dtype: int64"
      ]
     },
     "execution_count": 26,
     "metadata": {},
     "output_type": "execute_result"
    }
   ],
   "source": [
    "#Corroboramos valores nulos\n",
    "valores_nulos=data.isnull().sum()\n",
    "valores_nulos"
   ]
  },
  {
   "cell_type": "code",
   "execution_count": 27,
   "metadata": {},
   "outputs": [
    {
     "name": "stderr",
     "output_type": "stream",
     "text": [
      "C:\\Users\\HP\\AppData\\Local\\Temp\\ipykernel_4040\\701506464.py:4: FutureWarning: Series.fillna with 'method' is deprecated and will raise in a future version. Use obj.ffill() or obj.bfill() instead.\n",
      "  data[\"host_location\"] =data[\"host_location\"].fillna(method=\"ffill\")\n"
     ]
    }
   ],
   "source": [
    "#Columna---host_location ------\n",
    "#Sustituir valores nulos por valores no nulos hacia adelante \"forward fill\" (\"ff\")\n",
    "#Filtro por columnas\n",
    "data[\"host_location\"] =data[\"host_location\"].fillna(method=\"ffill\")"
   ]
  },
  {
   "cell_type": "code",
   "execution_count": 28,
   "metadata": {},
   "outputs": [
    {
     "data": {
      "text/plain": [
       "id                                 0\n",
       "name                               0\n",
       "description                        0\n",
       "neighborhood_overview              0\n",
       "host_id                            0\n",
       "host_name                          0\n",
       "host_since                         0\n",
       "host_location                      0\n",
       "host_about                      3879\n",
       "host_response_time               856\n",
       "host_response_rate               856\n",
       "host_acceptance_rate             574\n",
       "neighbourhood                   3422\n",
       "neighbourhood_cleansed             0\n",
       "neighbourhood_group_cleansed       0\n",
       "latitude                           0\n",
       "longitude                          0\n",
       "property_type                      0\n",
       "room_type                          0\n",
       "accommodates                       0\n",
       "bathrooms                        906\n",
       "bathrooms_text                    11\n",
       "bedrooms                         171\n",
       "beds                             913\n",
       "amenities                          0\n",
       "price                            903\n",
       "minimum_nights                     0\n",
       "maximum_nights                     0\n",
       "minimum_minimum_nights             0\n",
       "maximum_minimum_nights             0\n",
       "minimum_maximum_nights             0\n",
       "maximum_maximum_nights             0\n",
       "minimum_nights_avg_ntm             0\n",
       "maximum_nights_avg_ntm             0\n",
       "availability_30                    0\n",
       "availability_60                    0\n",
       "availability_90                    0\n",
       "availability_365                   0\n",
       "calendar_last_scraped              0\n",
       "number_of_reviews                  0\n",
       "number_of_reviews_ltm              0\n",
       "number_of_reviews_l30d             0\n",
       "review_scores_rating             780\n",
       "review_scores_accuracy           780\n",
       "review_scores_cleanliness        780\n",
       "review_scores_checkin            780\n",
       "review_scores_communication      780\n",
       "review_scores_location           781\n",
       "review_scores_value              780\n",
       "reviews_per_month                780\n",
       "dtype: int64"
      ]
     },
     "execution_count": 28,
     "metadata": {},
     "output_type": "execute_result"
    }
   ],
   "source": [
    "#Corroboramos valores nulos\n",
    "valores_nulos=data.isnull().sum()\n",
    "valores_nulos"
   ]
  },
  {
   "cell_type": "code",
   "execution_count": 29,
   "metadata": {},
   "outputs": [],
   "source": [
    "#Columna---host_about ------\n",
    "#Sustituir valores nulos por un string en concreto\n",
    "data[\"host_about\"]=data[\"host_about\"].fillna(\"No disponible\")"
   ]
  },
  {
   "cell_type": "code",
   "execution_count": 30,
   "metadata": {},
   "outputs": [
    {
     "data": {
      "text/plain": [
       "id                                 0\n",
       "name                               0\n",
       "description                        0\n",
       "neighborhood_overview              0\n",
       "host_id                            0\n",
       "host_name                          0\n",
       "host_since                         0\n",
       "host_location                      0\n",
       "host_about                         0\n",
       "host_response_time               856\n",
       "host_response_rate               856\n",
       "host_acceptance_rate             574\n",
       "neighbourhood                   3422\n",
       "neighbourhood_cleansed             0\n",
       "neighbourhood_group_cleansed       0\n",
       "latitude                           0\n",
       "longitude                          0\n",
       "property_type                      0\n",
       "room_type                          0\n",
       "accommodates                       0\n",
       "bathrooms                        906\n",
       "bathrooms_text                    11\n",
       "bedrooms                         171\n",
       "beds                             913\n",
       "amenities                          0\n",
       "price                            903\n",
       "minimum_nights                     0\n",
       "maximum_nights                     0\n",
       "minimum_minimum_nights             0\n",
       "maximum_minimum_nights             0\n",
       "minimum_maximum_nights             0\n",
       "maximum_maximum_nights             0\n",
       "minimum_nights_avg_ntm             0\n",
       "maximum_nights_avg_ntm             0\n",
       "availability_30                    0\n",
       "availability_60                    0\n",
       "availability_90                    0\n",
       "availability_365                   0\n",
       "calendar_last_scraped              0\n",
       "number_of_reviews                  0\n",
       "number_of_reviews_ltm              0\n",
       "number_of_reviews_l30d             0\n",
       "review_scores_rating             780\n",
       "review_scores_accuracy           780\n",
       "review_scores_cleanliness        780\n",
       "review_scores_checkin            780\n",
       "review_scores_communication      780\n",
       "review_scores_location           781\n",
       "review_scores_value              780\n",
       "reviews_per_month                780\n",
       "dtype: int64"
      ]
     },
     "execution_count": 30,
     "metadata": {},
     "output_type": "execute_result"
    }
   ],
   "source": [
    "#Corroboramos valores nulos\n",
    "valores_nulos=data.isnull().sum()\n",
    "valores_nulos"
   ]
  },
  {
   "cell_type": "code",
   "execution_count": 37,
   "metadata": {},
   "outputs": [
    {
     "name": "stderr",
     "output_type": "stream",
     "text": [
      "C:\\Users\\HP\\AppData\\Local\\Temp\\ipykernel_4040\\1980732667.py:4: FutureWarning: Series.fillna with 'method' is deprecated and will raise in a future version. Use obj.ffill() or obj.bfill() instead.\n",
      "  data[\"host_response_time\"] =data[\"host_response_time\"].fillna(method=\"ffill\")\n"
     ]
    }
   ],
   "source": [
    "#Columna---host_response_time  ------\n",
    "#Sustituir valores nulos por valores no nulos hacia adelante \"forward fill\" (\"ff\")\n",
    "#Filtro por columnas\n",
    "data[\"host_response_time\"] =data[\"host_response_time\"].fillna(method=\"ffill\")\n"
   ]
  },
  {
   "cell_type": "code",
   "execution_count": 38,
   "metadata": {},
   "outputs": [
    {
     "data": {
      "text/plain": [
       "id                                 0\n",
       "name                               0\n",
       "description                        0\n",
       "neighborhood_overview              0\n",
       "host_id                            0\n",
       "host_name                          0\n",
       "host_since                         0\n",
       "host_location                      0\n",
       "host_about                         0\n",
       "host_response_time                 0\n",
       "host_response_rate               856\n",
       "host_acceptance_rate             574\n",
       "neighbourhood                   3422\n",
       "neighbourhood_cleansed             0\n",
       "neighbourhood_group_cleansed       0\n",
       "latitude                           0\n",
       "longitude                          0\n",
       "property_type                      0\n",
       "room_type                          0\n",
       "accommodates                       0\n",
       "bathrooms                        906\n",
       "bathrooms_text                    11\n",
       "bedrooms                         171\n",
       "beds                             913\n",
       "amenities                          0\n",
       "price                            903\n",
       "minimum_nights                     0\n",
       "maximum_nights                     0\n",
       "minimum_minimum_nights             0\n",
       "maximum_minimum_nights             0\n",
       "minimum_maximum_nights             0\n",
       "maximum_maximum_nights             0\n",
       "minimum_nights_avg_ntm             0\n",
       "maximum_nights_avg_ntm             0\n",
       "availability_30                    0\n",
       "availability_60                    0\n",
       "availability_90                    0\n",
       "availability_365                   0\n",
       "calendar_last_scraped              0\n",
       "number_of_reviews                  0\n",
       "number_of_reviews_ltm              0\n",
       "number_of_reviews_l30d             0\n",
       "review_scores_rating             780\n",
       "review_scores_accuracy           780\n",
       "review_scores_cleanliness        780\n",
       "review_scores_checkin            780\n",
       "review_scores_communication      780\n",
       "review_scores_location           781\n",
       "review_scores_value              780\n",
       "reviews_per_month                780\n",
       "dtype: int64"
      ]
     },
     "execution_count": 38,
     "metadata": {},
     "output_type": "execute_result"
    }
   ],
   "source": [
    "#Corroboramos valores nulos\n",
    "valores_nulos=data.isnull().sum()\n",
    "valores_nulos"
   ]
  },
  {
   "cell_type": "code",
   "execution_count": 39,
   "metadata": {},
   "outputs": [
    {
     "name": "stderr",
     "output_type": "stream",
     "text": [
      "C:\\Users\\HP\\AppData\\Local\\Temp\\ipykernel_4040\\2648354007.py:4: FutureWarning: Series.fillna with 'method' is deprecated and will raise in a future version. Use obj.ffill() or obj.bfill() instead.\n",
      "  data[\"host_response_rate\"] =data[\"host_response_rate\"].fillna(method=\"ffill\")\n"
     ]
    }
   ],
   "source": [
    "#Columna---host_response_rate------\n",
    "#Sustituir valores nulos por valores no nulos hacia adelante \"forward fill\" (\"ff\")\n",
    "#Filtro por columnas\n",
    "data[\"host_response_rate\"] =data[\"host_response_rate\"].fillna(method=\"ffill\")"
   ]
  },
  {
   "cell_type": "code",
   "execution_count": 40,
   "metadata": {},
   "outputs": [
    {
     "data": {
      "text/plain": [
       "id                                 0\n",
       "name                               0\n",
       "description                        0\n",
       "neighborhood_overview              0\n",
       "host_id                            0\n",
       "host_name                          0\n",
       "host_since                         0\n",
       "host_location                      0\n",
       "host_about                         0\n",
       "host_response_time                 0\n",
       "host_response_rate                 0\n",
       "host_acceptance_rate             574\n",
       "neighbourhood                   3422\n",
       "neighbourhood_cleansed             0\n",
       "neighbourhood_group_cleansed       0\n",
       "latitude                           0\n",
       "longitude                          0\n",
       "property_type                      0\n",
       "room_type                          0\n",
       "accommodates                       0\n",
       "bathrooms                        906\n",
       "bathrooms_text                    11\n",
       "bedrooms                         171\n",
       "beds                             913\n",
       "amenities                          0\n",
       "price                            903\n",
       "minimum_nights                     0\n",
       "maximum_nights                     0\n",
       "minimum_minimum_nights             0\n",
       "maximum_minimum_nights             0\n",
       "minimum_maximum_nights             0\n",
       "maximum_maximum_nights             0\n",
       "minimum_nights_avg_ntm             0\n",
       "maximum_nights_avg_ntm             0\n",
       "availability_30                    0\n",
       "availability_60                    0\n",
       "availability_90                    0\n",
       "availability_365                   0\n",
       "calendar_last_scraped              0\n",
       "number_of_reviews                  0\n",
       "number_of_reviews_ltm              0\n",
       "number_of_reviews_l30d             0\n",
       "review_scores_rating             780\n",
       "review_scores_accuracy           780\n",
       "review_scores_cleanliness        780\n",
       "review_scores_checkin            780\n",
       "review_scores_communication      780\n",
       "review_scores_location           781\n",
       "review_scores_value              780\n",
       "reviews_per_month                780\n",
       "dtype: int64"
      ]
     },
     "execution_count": 40,
     "metadata": {},
     "output_type": "execute_result"
    }
   ],
   "source": [
    "#Corroboramos valores nulos\n",
    "valores_nulos=data.isnull().sum()\n",
    "valores_nulos"
   ]
  },
  {
   "cell_type": "code",
   "execution_count": 47,
   "metadata": {},
   "outputs": [
    {
     "name": "stderr",
     "output_type": "stream",
     "text": [
      "C:\\Users\\HP\\AppData\\Local\\Temp\\ipykernel_4040\\3326286197.py:3: FutureWarning: Series.fillna with 'method' is deprecated and will raise in a future version. Use obj.ffill() or obj.bfill() instead.\n",
      "  data[\"host_acceptance_rate\"] =data[\"host_acceptance_rate\"].fillna(method=\"ffill\")\n"
     ]
    }
   ],
   "source": [
    "#Columna---host_acceptance_rate------\n",
    "##Sustituir valores nulos por valores no nulos hacia adelante \"forward fill\" (\"ff\")\n",
    "data[\"host_acceptance_rate\"] =data[\"host_acceptance_rate\"].fillna(method=\"ffill\")"
   ]
  },
  {
   "cell_type": "code",
   "execution_count": 48,
   "metadata": {},
   "outputs": [
    {
     "data": {
      "text/plain": [
       "id                                 0\n",
       "name                               0\n",
       "description                        0\n",
       "neighborhood_overview              0\n",
       "host_id                            0\n",
       "host_name                          0\n",
       "host_since                         0\n",
       "host_location                      0\n",
       "host_about                         0\n",
       "host_response_time                 0\n",
       "host_response_rate                 0\n",
       "host_acceptance_rate               0\n",
       "neighbourhood                   3422\n",
       "neighbourhood_cleansed             0\n",
       "neighbourhood_group_cleansed       0\n",
       "latitude                           0\n",
       "longitude                          0\n",
       "property_type                      0\n",
       "room_type                          0\n",
       "accommodates                       0\n",
       "bathrooms                        906\n",
       "bathrooms_text                    11\n",
       "bedrooms                         171\n",
       "beds                             913\n",
       "amenities                          0\n",
       "price                            903\n",
       "minimum_nights                     0\n",
       "maximum_nights                     0\n",
       "minimum_minimum_nights             0\n",
       "maximum_minimum_nights             0\n",
       "minimum_maximum_nights             0\n",
       "maximum_maximum_nights             0\n",
       "minimum_nights_avg_ntm             0\n",
       "maximum_nights_avg_ntm             0\n",
       "availability_30                    0\n",
       "availability_60                    0\n",
       "availability_90                    0\n",
       "availability_365                   0\n",
       "calendar_last_scraped              0\n",
       "number_of_reviews                  0\n",
       "number_of_reviews_ltm              0\n",
       "number_of_reviews_l30d             0\n",
       "review_scores_rating             780\n",
       "review_scores_accuracy           780\n",
       "review_scores_cleanliness        780\n",
       "review_scores_checkin            780\n",
       "review_scores_communication      780\n",
       "review_scores_location           781\n",
       "review_scores_value              780\n",
       "reviews_per_month                780\n",
       "dtype: int64"
      ]
     },
     "execution_count": 48,
     "metadata": {},
     "output_type": "execute_result"
    }
   ],
   "source": [
    "#Corroboramos valores nulos\n",
    "valores_nulos=data.isnull().sum()\n",
    "valores_nulos"
   ]
  },
  {
   "cell_type": "code",
   "execution_count": 51,
   "metadata": {},
   "outputs": [],
   "source": [
    "#Columna---neighbourhood------\n",
    "#Sustituir valores nulos por un string en concreto\n",
    "data[\"neighbourhood\"]=data[\"neighbourhood\"].fillna(\"Venice,Veneto,Italy\")"
   ]
  },
  {
   "cell_type": "code",
   "execution_count": 52,
   "metadata": {},
   "outputs": [
    {
     "data": {
      "text/plain": [
       "id                                0\n",
       "name                              0\n",
       "description                       0\n",
       "neighborhood_overview             0\n",
       "host_id                           0\n",
       "host_name                         0\n",
       "host_since                        0\n",
       "host_location                     0\n",
       "host_about                        0\n",
       "host_response_time                0\n",
       "host_response_rate                0\n",
       "host_acceptance_rate              0\n",
       "neighbourhood                     0\n",
       "neighbourhood_cleansed            0\n",
       "neighbourhood_group_cleansed      0\n",
       "latitude                          0\n",
       "longitude                         0\n",
       "property_type                     0\n",
       "room_type                         0\n",
       "accommodates                      0\n",
       "bathrooms                       906\n",
       "bathrooms_text                   11\n",
       "bedrooms                        171\n",
       "beds                            913\n",
       "amenities                         0\n",
       "price                           903\n",
       "minimum_nights                    0\n",
       "maximum_nights                    0\n",
       "minimum_minimum_nights            0\n",
       "maximum_minimum_nights            0\n",
       "minimum_maximum_nights            0\n",
       "maximum_maximum_nights            0\n",
       "minimum_nights_avg_ntm            0\n",
       "maximum_nights_avg_ntm            0\n",
       "availability_30                   0\n",
       "availability_60                   0\n",
       "availability_90                   0\n",
       "availability_365                  0\n",
       "calendar_last_scraped             0\n",
       "number_of_reviews                 0\n",
       "number_of_reviews_ltm             0\n",
       "number_of_reviews_l30d            0\n",
       "review_scores_rating            780\n",
       "review_scores_accuracy          780\n",
       "review_scores_cleanliness       780\n",
       "review_scores_checkin           780\n",
       "review_scores_communication     780\n",
       "review_scores_location          781\n",
       "review_scores_value             780\n",
       "reviews_per_month               780\n",
       "dtype: int64"
      ]
     },
     "execution_count": 52,
     "metadata": {},
     "output_type": "execute_result"
    }
   ],
   "source": [
    "#Corroboramos valores nulos\n",
    "valores_nulos=data.isnull().sum()\n",
    "valores_nulos"
   ]
  },
  {
   "cell_type": "code",
   "execution_count": 58,
   "metadata": {},
   "outputs": [],
   "source": [
    "#Columna---bathrooms------\n",
    "#Sustituir valores nulos con media\n",
    "data[\"bathrooms\"]=data[\"bathrooms\"].fillna(round(data[\"bathrooms\"].mean(),1))"
   ]
  },
  {
   "cell_type": "code",
   "execution_count": 59,
   "metadata": {},
   "outputs": [
    {
     "data": {
      "text/plain": [
       "id                                0\n",
       "name                              0\n",
       "description                       0\n",
       "neighborhood_overview             0\n",
       "host_id                           0\n",
       "host_name                         0\n",
       "host_since                        0\n",
       "host_location                     0\n",
       "host_about                        0\n",
       "host_response_time                0\n",
       "host_response_rate                0\n",
       "host_acceptance_rate              0\n",
       "neighbourhood                     0\n",
       "neighbourhood_cleansed            0\n",
       "neighbourhood_group_cleansed      0\n",
       "latitude                          0\n",
       "longitude                         0\n",
       "property_type                     0\n",
       "room_type                         0\n",
       "accommodates                      0\n",
       "bathrooms                         0\n",
       "bathrooms_text                   11\n",
       "bedrooms                        171\n",
       "beds                            913\n",
       "amenities                         0\n",
       "price                           903\n",
       "minimum_nights                    0\n",
       "maximum_nights                    0\n",
       "minimum_minimum_nights            0\n",
       "maximum_minimum_nights            0\n",
       "minimum_maximum_nights            0\n",
       "maximum_maximum_nights            0\n",
       "minimum_nights_avg_ntm            0\n",
       "maximum_nights_avg_ntm            0\n",
       "availability_30                   0\n",
       "availability_60                   0\n",
       "availability_90                   0\n",
       "availability_365                  0\n",
       "calendar_last_scraped             0\n",
       "number_of_reviews                 0\n",
       "number_of_reviews_ltm             0\n",
       "number_of_reviews_l30d            0\n",
       "review_scores_rating            780\n",
       "review_scores_accuracy          780\n",
       "review_scores_cleanliness       780\n",
       "review_scores_checkin           780\n",
       "review_scores_communication     780\n",
       "review_scores_location          781\n",
       "review_scores_value             780\n",
       "reviews_per_month               780\n",
       "dtype: int64"
      ]
     },
     "execution_count": 59,
     "metadata": {},
     "output_type": "execute_result"
    }
   ],
   "source": [
    "#Corroboramos valores nulos\n",
    "valores_nulos=data.isnull().sum()\n",
    "valores_nulos"
   ]
  },
  {
   "cell_type": "code",
   "execution_count": 60,
   "metadata": {},
   "outputs": [
    {
     "name": "stderr",
     "output_type": "stream",
     "text": [
      "C:\\Users\\HP\\AppData\\Local\\Temp\\ipykernel_4040\\3013960432.py:3: FutureWarning: Series.fillna with 'method' is deprecated and will raise in a future version. Use obj.ffill() or obj.bfill() instead.\n",
      "  data[\"bathrooms_text\"] =data[\"bathrooms_text\"].fillna(method=\"ffill\")\n"
     ]
    }
   ],
   "source": [
    "#Columna---bathrooms_text------\n",
    "#Sustituir valores nulos por valores no nulos hacia adelante \"forward fill\" (\"ff\")\n",
    "data[\"bathrooms_text\"] =data[\"bathrooms_text\"].fillna(method=\"ffill\")"
   ]
  },
  {
   "cell_type": "code",
   "execution_count": 61,
   "metadata": {},
   "outputs": [
    {
     "data": {
      "text/plain": [
       "id                                0\n",
       "name                              0\n",
       "description                       0\n",
       "neighborhood_overview             0\n",
       "host_id                           0\n",
       "host_name                         0\n",
       "host_since                        0\n",
       "host_location                     0\n",
       "host_about                        0\n",
       "host_response_time                0\n",
       "host_response_rate                0\n",
       "host_acceptance_rate              0\n",
       "neighbourhood                     0\n",
       "neighbourhood_cleansed            0\n",
       "neighbourhood_group_cleansed      0\n",
       "latitude                          0\n",
       "longitude                         0\n",
       "property_type                     0\n",
       "room_type                         0\n",
       "accommodates                      0\n",
       "bathrooms                         0\n",
       "bathrooms_text                    0\n",
       "bedrooms                        171\n",
       "beds                            913\n",
       "amenities                         0\n",
       "price                           903\n",
       "minimum_nights                    0\n",
       "maximum_nights                    0\n",
       "minimum_minimum_nights            0\n",
       "maximum_minimum_nights            0\n",
       "minimum_maximum_nights            0\n",
       "maximum_maximum_nights            0\n",
       "minimum_nights_avg_ntm            0\n",
       "maximum_nights_avg_ntm            0\n",
       "availability_30                   0\n",
       "availability_60                   0\n",
       "availability_90                   0\n",
       "availability_365                  0\n",
       "calendar_last_scraped             0\n",
       "number_of_reviews                 0\n",
       "number_of_reviews_ltm             0\n",
       "number_of_reviews_l30d            0\n",
       "review_scores_rating            780\n",
       "review_scores_accuracy          780\n",
       "review_scores_cleanliness       780\n",
       "review_scores_checkin           780\n",
       "review_scores_communication     780\n",
       "review_scores_location          781\n",
       "review_scores_value             780\n",
       "reviews_per_month               780\n",
       "dtype: int64"
      ]
     },
     "execution_count": 61,
     "metadata": {},
     "output_type": "execute_result"
    }
   ],
   "source": [
    "#Corroboramos valores nulos\n",
    "valores_nulos=data.isnull().sum()\n",
    "valores_nulos"
   ]
  },
  {
   "cell_type": "code",
   "execution_count": 62,
   "metadata": {},
   "outputs": [],
   "source": [
    "#Columna---bedrooms------\n",
    "#Sustituir valores nulos con la media\n",
    "data[\"bedrooms\"]=data[\"bedrooms\"].fillna(round(data[\"bedrooms\"].mean(),1))"
   ]
  },
  {
   "cell_type": "code",
   "execution_count": 63,
   "metadata": {},
   "outputs": [
    {
     "data": {
      "text/plain": [
       "id                                0\n",
       "name                              0\n",
       "description                       0\n",
       "neighborhood_overview             0\n",
       "host_id                           0\n",
       "host_name                         0\n",
       "host_since                        0\n",
       "host_location                     0\n",
       "host_about                        0\n",
       "host_response_time                0\n",
       "host_response_rate                0\n",
       "host_acceptance_rate              0\n",
       "neighbourhood                     0\n",
       "neighbourhood_cleansed            0\n",
       "neighbourhood_group_cleansed      0\n",
       "latitude                          0\n",
       "longitude                         0\n",
       "property_type                     0\n",
       "room_type                         0\n",
       "accommodates                      0\n",
       "bathrooms                         0\n",
       "bathrooms_text                    0\n",
       "bedrooms                          0\n",
       "beds                            913\n",
       "amenities                         0\n",
       "price                           903\n",
       "minimum_nights                    0\n",
       "maximum_nights                    0\n",
       "minimum_minimum_nights            0\n",
       "maximum_minimum_nights            0\n",
       "minimum_maximum_nights            0\n",
       "maximum_maximum_nights            0\n",
       "minimum_nights_avg_ntm            0\n",
       "maximum_nights_avg_ntm            0\n",
       "availability_30                   0\n",
       "availability_60                   0\n",
       "availability_90                   0\n",
       "availability_365                  0\n",
       "calendar_last_scraped             0\n",
       "number_of_reviews                 0\n",
       "number_of_reviews_ltm             0\n",
       "number_of_reviews_l30d            0\n",
       "review_scores_rating            780\n",
       "review_scores_accuracy          780\n",
       "review_scores_cleanliness       780\n",
       "review_scores_checkin           780\n",
       "review_scores_communication     780\n",
       "review_scores_location          781\n",
       "review_scores_value             780\n",
       "reviews_per_month               780\n",
       "dtype: int64"
      ]
     },
     "execution_count": 63,
     "metadata": {},
     "output_type": "execute_result"
    }
   ],
   "source": [
    "#Corroboramos valores nulos\n",
    "valores_nulos=data.isnull().sum()\n",
    "valores_nulos"
   ]
  },
  {
   "cell_type": "code",
   "execution_count": 64,
   "metadata": {},
   "outputs": [],
   "source": [
    "#Columna---beds------\n",
    "#Sustituir valores nulos con la media\n",
    "data[\"beds\"]=data[\"beds\"].fillna(round(data[\"beds\"].median(),1))"
   ]
  },
  {
   "cell_type": "code",
   "execution_count": 65,
   "metadata": {},
   "outputs": [
    {
     "data": {
      "text/plain": [
       "id                                0\n",
       "name                              0\n",
       "description                       0\n",
       "neighborhood_overview             0\n",
       "host_id                           0\n",
       "host_name                         0\n",
       "host_since                        0\n",
       "host_location                     0\n",
       "host_about                        0\n",
       "host_response_time                0\n",
       "host_response_rate                0\n",
       "host_acceptance_rate              0\n",
       "neighbourhood                     0\n",
       "neighbourhood_cleansed            0\n",
       "neighbourhood_group_cleansed      0\n",
       "latitude                          0\n",
       "longitude                         0\n",
       "property_type                     0\n",
       "room_type                         0\n",
       "accommodates                      0\n",
       "bathrooms                         0\n",
       "bathrooms_text                    0\n",
       "bedrooms                          0\n",
       "beds                              0\n",
       "amenities                         0\n",
       "price                           903\n",
       "minimum_nights                    0\n",
       "maximum_nights                    0\n",
       "minimum_minimum_nights            0\n",
       "maximum_minimum_nights            0\n",
       "minimum_maximum_nights            0\n",
       "maximum_maximum_nights            0\n",
       "minimum_nights_avg_ntm            0\n",
       "maximum_nights_avg_ntm            0\n",
       "availability_30                   0\n",
       "availability_60                   0\n",
       "availability_90                   0\n",
       "availability_365                  0\n",
       "calendar_last_scraped             0\n",
       "number_of_reviews                 0\n",
       "number_of_reviews_ltm             0\n",
       "number_of_reviews_l30d            0\n",
       "review_scores_rating            780\n",
       "review_scores_accuracy          780\n",
       "review_scores_cleanliness       780\n",
       "review_scores_checkin           780\n",
       "review_scores_communication     780\n",
       "review_scores_location          781\n",
       "review_scores_value             780\n",
       "reviews_per_month               780\n",
       "dtype: int64"
      ]
     },
     "execution_count": 65,
     "metadata": {},
     "output_type": "execute_result"
    }
   ],
   "source": [
    "#Corroboramos valores nulos\n",
    "valores_nulos=data.isnull().sum()\n",
    "valores_nulos"
   ]
  },
  {
   "cell_type": "code",
   "execution_count": 66,
   "metadata": {},
   "outputs": [],
   "source": [
    "#Columna---review_scores_communication------\n",
    "#Sustituir valores nulos con la media\n",
    "data[\"review_scores_communication\"]=data[\"review_scores_communication\"].fillna(round(data[\"review_scores_communication\"].mean(),2))"
   ]
  },
  {
   "cell_type": "code",
   "execution_count": 67,
   "metadata": {},
   "outputs": [
    {
     "data": {
      "text/plain": [
       "id                                0\n",
       "name                              0\n",
       "description                       0\n",
       "neighborhood_overview             0\n",
       "host_id                           0\n",
       "host_name                         0\n",
       "host_since                        0\n",
       "host_location                     0\n",
       "host_about                        0\n",
       "host_response_time                0\n",
       "host_response_rate                0\n",
       "host_acceptance_rate              0\n",
       "neighbourhood                     0\n",
       "neighbourhood_cleansed            0\n",
       "neighbourhood_group_cleansed      0\n",
       "latitude                          0\n",
       "longitude                         0\n",
       "property_type                     0\n",
       "room_type                         0\n",
       "accommodates                      0\n",
       "bathrooms                         0\n",
       "bathrooms_text                    0\n",
       "bedrooms                          0\n",
       "beds                              0\n",
       "amenities                         0\n",
       "price                           903\n",
       "minimum_nights                    0\n",
       "maximum_nights                    0\n",
       "minimum_minimum_nights            0\n",
       "maximum_minimum_nights            0\n",
       "minimum_maximum_nights            0\n",
       "maximum_maximum_nights            0\n",
       "minimum_nights_avg_ntm            0\n",
       "maximum_nights_avg_ntm            0\n",
       "availability_30                   0\n",
       "availability_60                   0\n",
       "availability_90                   0\n",
       "availability_365                  0\n",
       "calendar_last_scraped             0\n",
       "number_of_reviews                 0\n",
       "number_of_reviews_ltm             0\n",
       "number_of_reviews_l30d            0\n",
       "review_scores_rating            780\n",
       "review_scores_accuracy          780\n",
       "review_scores_cleanliness       780\n",
       "review_scores_checkin           780\n",
       "review_scores_communication       0\n",
       "review_scores_location          781\n",
       "review_scores_value             780\n",
       "reviews_per_month               780\n",
       "dtype: int64"
      ]
     },
     "execution_count": 67,
     "metadata": {},
     "output_type": "execute_result"
    }
   ],
   "source": [
    "#Corroboramos valores nulos\n",
    "valores_nulos=data.isnull().sum()\n",
    "valores_nulos"
   ]
  },
  {
   "cell_type": "code",
   "execution_count": 68,
   "metadata": {},
   "outputs": [
    {
     "name": "stderr",
     "output_type": "stream",
     "text": [
      "C:\\Users\\HP\\AppData\\Local\\Temp\\ipykernel_4040\\1883025794.py:4: FutureWarning: Series.fillna with 'method' is deprecated and will raise in a future version. Use obj.ffill() or obj.bfill() instead.\n",
      "  data[\"review_scores_location\"] =data[\"review_scores_location\"].fillna(method=\"ffill\")\n"
     ]
    }
   ],
   "source": [
    "#Columna---review_scores_location------\n",
    "#Sustituir valores nulos por valores no nulos hacia adelante \"forward fill\" (\"ff\")\n",
    "#Filtro por columnas\n",
    "data[\"review_scores_location\"] =data[\"review_scores_location\"].fillna(method=\"ffill\")"
   ]
  },
  {
   "cell_type": "code",
   "execution_count": 69,
   "metadata": {},
   "outputs": [
    {
     "data": {
      "text/plain": [
       "id                                0\n",
       "name                              0\n",
       "description                       0\n",
       "neighborhood_overview             0\n",
       "host_id                           0\n",
       "host_name                         0\n",
       "host_since                        0\n",
       "host_location                     0\n",
       "host_about                        0\n",
       "host_response_time                0\n",
       "host_response_rate                0\n",
       "host_acceptance_rate              0\n",
       "neighbourhood                     0\n",
       "neighbourhood_cleansed            0\n",
       "neighbourhood_group_cleansed      0\n",
       "latitude                          0\n",
       "longitude                         0\n",
       "property_type                     0\n",
       "room_type                         0\n",
       "accommodates                      0\n",
       "bathrooms                         0\n",
       "bathrooms_text                    0\n",
       "bedrooms                          0\n",
       "beds                              0\n",
       "amenities                         0\n",
       "price                           903\n",
       "minimum_nights                    0\n",
       "maximum_nights                    0\n",
       "minimum_minimum_nights            0\n",
       "maximum_minimum_nights            0\n",
       "minimum_maximum_nights            0\n",
       "maximum_maximum_nights            0\n",
       "minimum_nights_avg_ntm            0\n",
       "maximum_nights_avg_ntm            0\n",
       "availability_30                   0\n",
       "availability_60                   0\n",
       "availability_90                   0\n",
       "availability_365                  0\n",
       "calendar_last_scraped             0\n",
       "number_of_reviews                 0\n",
       "number_of_reviews_ltm             0\n",
       "number_of_reviews_l30d            0\n",
       "review_scores_rating            780\n",
       "review_scores_accuracy          780\n",
       "review_scores_cleanliness       780\n",
       "review_scores_checkin           780\n",
       "review_scores_communication       0\n",
       "review_scores_location            0\n",
       "review_scores_value             780\n",
       "reviews_per_month               780\n",
       "dtype: int64"
      ]
     },
     "execution_count": 69,
     "metadata": {},
     "output_type": "execute_result"
    }
   ],
   "source": [
    "#Corroboramos valores nulos\n",
    "valores_nulos=data.isnull().sum()\n",
    "valores_nulos"
   ]
  },
  {
   "cell_type": "code",
   "execution_count": 72,
   "metadata": {},
   "outputs": [
    {
     "name": "stderr",
     "output_type": "stream",
     "text": [
      "C:\\Users\\HP\\AppData\\Local\\Temp\\ipykernel_4040\\1778362336.py:4: FutureWarning: Series.fillna with 'method' is deprecated and will raise in a future version. Use obj.ffill() or obj.bfill() instead.\n",
      "  data[\"review_scores_value\"] =data[\"review_scores_value\"].fillna(method=\"ffill\")\n"
     ]
    }
   ],
   "source": [
    "#Columna---review_scores_value------\n",
    "#Sustituir valores nulos por valores no nulos hacia adelante \"forward fill\" (\"ff\")\n",
    "#Filtro por columnas\n",
    "data[\"review_scores_value\"] =data[\"review_scores_value\"].fillna(method=\"ffill\")"
   ]
  },
  {
   "cell_type": "code",
   "execution_count": 73,
   "metadata": {},
   "outputs": [
    {
     "data": {
      "text/plain": [
       "id                                0\n",
       "name                              0\n",
       "description                       0\n",
       "neighborhood_overview             0\n",
       "host_id                           0\n",
       "host_name                         0\n",
       "host_since                        0\n",
       "host_location                     0\n",
       "host_about                        0\n",
       "host_response_time                0\n",
       "host_response_rate                0\n",
       "host_acceptance_rate              0\n",
       "neighbourhood                     0\n",
       "neighbourhood_cleansed            0\n",
       "neighbourhood_group_cleansed      0\n",
       "latitude                          0\n",
       "longitude                         0\n",
       "property_type                     0\n",
       "room_type                         0\n",
       "accommodates                      0\n",
       "bathrooms                         0\n",
       "bathrooms_text                    0\n",
       "bedrooms                          0\n",
       "beds                              0\n",
       "amenities                         0\n",
       "price                           903\n",
       "minimum_nights                    0\n",
       "maximum_nights                    0\n",
       "minimum_minimum_nights            0\n",
       "maximum_minimum_nights            0\n",
       "minimum_maximum_nights            0\n",
       "maximum_maximum_nights            0\n",
       "minimum_nights_avg_ntm            0\n",
       "maximum_nights_avg_ntm            0\n",
       "availability_30                   0\n",
       "availability_60                   0\n",
       "availability_90                   0\n",
       "availability_365                  0\n",
       "calendar_last_scraped             0\n",
       "number_of_reviews                 0\n",
       "number_of_reviews_ltm             0\n",
       "number_of_reviews_l30d            0\n",
       "review_scores_rating            780\n",
       "review_scores_accuracy          780\n",
       "review_scores_cleanliness       780\n",
       "review_scores_checkin           780\n",
       "review_scores_communication       0\n",
       "review_scores_location            0\n",
       "review_scores_value               0\n",
       "reviews_per_month               780\n",
       "dtype: int64"
      ]
     },
     "execution_count": 73,
     "metadata": {},
     "output_type": "execute_result"
    }
   ],
   "source": [
    "#Corroboramos valores nulos\n",
    "valores_nulos=data.isnull().sum()\n",
    "valores_nulos"
   ]
  },
  {
   "cell_type": "code",
   "execution_count": 74,
   "metadata": {},
   "outputs": [],
   "source": [
    "#Columna---reviews_per_month------\n",
    "#Sustituir valores nulos con la media\n",
    "data[\"reviews_per_month\"]=data[\"reviews_per_month\"].fillna(round(data[\"reviews_per_month\"].mean(),2))"
   ]
  },
  {
   "cell_type": "code",
   "execution_count": 75,
   "metadata": {},
   "outputs": [
    {
     "data": {
      "text/plain": [
       "id                                0\n",
       "name                              0\n",
       "description                       0\n",
       "neighborhood_overview             0\n",
       "host_id                           0\n",
       "host_name                         0\n",
       "host_since                        0\n",
       "host_location                     0\n",
       "host_about                        0\n",
       "host_response_time                0\n",
       "host_response_rate                0\n",
       "host_acceptance_rate              0\n",
       "neighbourhood                     0\n",
       "neighbourhood_cleansed            0\n",
       "neighbourhood_group_cleansed      0\n",
       "latitude                          0\n",
       "longitude                         0\n",
       "property_type                     0\n",
       "room_type                         0\n",
       "accommodates                      0\n",
       "bathrooms                         0\n",
       "bathrooms_text                    0\n",
       "bedrooms                          0\n",
       "beds                              0\n",
       "amenities                         0\n",
       "price                           903\n",
       "minimum_nights                    0\n",
       "maximum_nights                    0\n",
       "minimum_minimum_nights            0\n",
       "maximum_minimum_nights            0\n",
       "minimum_maximum_nights            0\n",
       "maximum_maximum_nights            0\n",
       "minimum_nights_avg_ntm            0\n",
       "maximum_nights_avg_ntm            0\n",
       "availability_30                   0\n",
       "availability_60                   0\n",
       "availability_90                   0\n",
       "availability_365                  0\n",
       "calendar_last_scraped             0\n",
       "number_of_reviews                 0\n",
       "number_of_reviews_ltm             0\n",
       "number_of_reviews_l30d            0\n",
       "review_scores_rating            780\n",
       "review_scores_accuracy          780\n",
       "review_scores_cleanliness       780\n",
       "review_scores_checkin           780\n",
       "review_scores_communication       0\n",
       "review_scores_location            0\n",
       "review_scores_value               0\n",
       "reviews_per_month                 0\n",
       "dtype: int64"
      ]
     },
     "execution_count": 75,
     "metadata": {},
     "output_type": "execute_result"
    }
   ],
   "source": [
    "#Corroboramos valores nulos\n",
    "valores_nulos=data.isnull().sum()\n",
    "valores_nulos"
   ]
  },
  {
   "cell_type": "code",
   "execution_count": 76,
   "metadata": {},
   "outputs": [
    {
     "data": {
      "text/plain": [
       "np.int64(4023)"
      ]
     },
     "execution_count": 76,
     "metadata": {},
     "output_type": "execute_result"
    }
   ],
   "source": [
    "#Identificar cuantos valores nulos tengo por columnas\n",
    "valores_nulos=data.isnull().sum().sum()\n",
    "valores_nulos"
   ]
  },
  {
   "cell_type": "code",
   "execution_count": 82,
   "metadata": {},
   "outputs": [
    {
     "data": {
      "text/plain": [
       "id                                0\n",
       "name                              0\n",
       "description                       0\n",
       "neighborhood_overview             0\n",
       "host_id                           0\n",
       "host_name                         0\n",
       "host_since                        0\n",
       "host_location                     0\n",
       "host_about                        0\n",
       "host_response_time                0\n",
       "host_response_rate                0\n",
       "host_acceptance_rate              0\n",
       "neighbourhood                     0\n",
       "neighbourhood_cleansed            0\n",
       "neighbourhood_group_cleansed      0\n",
       "latitude                          0\n",
       "longitude                         0\n",
       "property_type                     0\n",
       "room_type                         0\n",
       "accommodates                      0\n",
       "bathrooms                         0\n",
       "bathrooms_text                    0\n",
       "bedrooms                          0\n",
       "beds                              0\n",
       "amenities                         0\n",
       "price                           903\n",
       "minimum_nights                    0\n",
       "maximum_nights                    0\n",
       "minimum_minimum_nights            0\n",
       "maximum_minimum_nights            0\n",
       "minimum_maximum_nights            0\n",
       "maximum_maximum_nights            0\n",
       "minimum_nights_avg_ntm            0\n",
       "maximum_nights_avg_ntm            0\n",
       "availability_30                   0\n",
       "availability_60                   0\n",
       "availability_90                   0\n",
       "availability_365                  0\n",
       "calendar_last_scraped             0\n",
       "number_of_reviews                 0\n",
       "number_of_reviews_ltm             0\n",
       "number_of_reviews_l30d            0\n",
       "review_scores_rating            780\n",
       "review_scores_accuracy          780\n",
       "review_scores_cleanliness       780\n",
       "review_scores_checkin           780\n",
       "review_scores_communication       0\n",
       "review_scores_location            0\n",
       "review_scores_value               0\n",
       "reviews_per_month                 0\n",
       "dtype: int64"
      ]
     },
     "execution_count": 82,
     "metadata": {},
     "output_type": "execute_result"
    }
   ],
   "source": [
    "valores_nulos = data.isnull().sum()\n",
    "valores_nulos\n"
   ]
  },
  {
   "cell_type": "code",
   "execution_count": 84,
   "metadata": {},
   "outputs": [
    {
     "data": {
      "text/plain": [
       "np.True_"
      ]
     },
     "execution_count": 84,
     "metadata": {},
     "output_type": "execute_result"
    }
   ],
   "source": [
    "data['price'].isnull().any()\n"
   ]
  },
  {
   "cell_type": "code",
   "execution_count": 85,
   "metadata": {},
   "outputs": [
    {
     "name": "stderr",
     "output_type": "stream",
     "text": [
      "C:\\Users\\HP\\AppData\\Local\\Temp\\ipykernel_4040\\3501513995.py:4: FutureWarning: Series.fillna with 'method' is deprecated and will raise in a future version. Use obj.ffill() or obj.bfill() instead.\n",
      "  data[\"price\"] =data[\"price\"].fillna(method=\"ffill\")\n"
     ]
    }
   ],
   "source": [
    "#Columna---price------\n",
    "#Sustituir valores nulos por valores no nulos hacia adelante \"forward fill\" (\"ff\")\n",
    "#Filtro por columnas\n",
    "data[\"price\"] =data[\"price\"].fillna(method=\"ffill\")"
   ]
  },
  {
   "cell_type": "code",
   "execution_count": 88,
   "metadata": {},
   "outputs": [
    {
     "data": {
      "text/plain": [
       "np.int64(3120)"
      ]
     },
     "execution_count": 88,
     "metadata": {},
     "output_type": "execute_result"
    }
   ],
   "source": [
    "#Identificar cuantos valores nulos tengo por columnas\n",
    "valores_nulos=data.isnull().sum().sum()\n",
    "valores_nulos"
   ]
  },
  {
   "cell_type": "code",
   "execution_count": 89,
   "metadata": {},
   "outputs": [
    {
     "data": {
      "text/plain": [
       "np.False_"
      ]
     },
     "execution_count": 89,
     "metadata": {},
     "output_type": "execute_result"
    }
   ],
   "source": [
    "data['minimum_nights'].isnull().any()"
   ]
  },
  {
   "cell_type": "code",
   "execution_count": 90,
   "metadata": {},
   "outputs": [
    {
     "data": {
      "text/plain": [
       "np.False_"
      ]
     },
     "execution_count": 90,
     "metadata": {},
     "output_type": "execute_result"
    }
   ],
   "source": [
    "data['maximum_nights'].isnull().any()"
   ]
  },
  {
   "cell_type": "code",
   "execution_count": 91,
   "metadata": {},
   "outputs": [
    {
     "data": {
      "text/plain": [
       "np.False_"
      ]
     },
     "execution_count": 91,
     "metadata": {},
     "output_type": "execute_result"
    }
   ],
   "source": [
    "data['minimum_minimum_nights'].isnull().any()"
   ]
  },
  {
   "cell_type": "code",
   "execution_count": 92,
   "metadata": {},
   "outputs": [
    {
     "data": {
      "text/plain": [
       "np.False_"
      ]
     },
     "execution_count": 92,
     "metadata": {},
     "output_type": "execute_result"
    }
   ],
   "source": [
    "data['maximum_minimum_nights'].isnull().any()"
   ]
  },
  {
   "cell_type": "code",
   "execution_count": 94,
   "metadata": {},
   "outputs": [
    {
     "data": {
      "text/plain": [
       "np.False_"
      ]
     },
     "execution_count": 94,
     "metadata": {},
     "output_type": "execute_result"
    }
   ],
   "source": [
    "data['minimum_maximum_nights'].isnull().any()"
   ]
  },
  {
   "cell_type": "code",
   "execution_count": 97,
   "metadata": {},
   "outputs": [
    {
     "data": {
      "text/plain": [
       "np.False_"
      ]
     },
     "execution_count": 97,
     "metadata": {},
     "output_type": "execute_result"
    }
   ],
   "source": [
    "data['maximum_maximum_nights'].isnull().any()"
   ]
  },
  {
   "cell_type": "code",
   "execution_count": 98,
   "metadata": {},
   "outputs": [
    {
     "data": {
      "text/plain": [
       "np.False_"
      ]
     },
     "execution_count": 98,
     "metadata": {},
     "output_type": "execute_result"
    }
   ],
   "source": [
    "data['minimum_nights_avg_ntm'].isnull().any()"
   ]
  },
  {
   "cell_type": "code",
   "execution_count": 100,
   "metadata": {},
   "outputs": [
    {
     "data": {
      "text/plain": [
       "np.False_"
      ]
     },
     "execution_count": 100,
     "metadata": {},
     "output_type": "execute_result"
    }
   ],
   "source": [
    "data['maximum_nights_avg_ntm'].isnull().any()"
   ]
  },
  {
   "cell_type": "code",
   "execution_count": 101,
   "metadata": {},
   "outputs": [
    {
     "data": {
      "text/plain": [
       "np.False_"
      ]
     },
     "execution_count": 101,
     "metadata": {},
     "output_type": "execute_result"
    }
   ],
   "source": [
    "data['availability_30'].isnull().any()"
   ]
  },
  {
   "cell_type": "code",
   "execution_count": 102,
   "metadata": {},
   "outputs": [
    {
     "data": {
      "text/plain": [
       "np.False_"
      ]
     },
     "execution_count": 102,
     "metadata": {},
     "output_type": "execute_result"
    }
   ],
   "source": [
    "data['availability_60'].isnull().any()"
   ]
  },
  {
   "cell_type": "code",
   "execution_count": 103,
   "metadata": {},
   "outputs": [
    {
     "data": {
      "text/plain": [
       "np.False_"
      ]
     },
     "execution_count": 103,
     "metadata": {},
     "output_type": "execute_result"
    }
   ],
   "source": [
    "data['availability_90'].isnull().any()"
   ]
  },
  {
   "cell_type": "code",
   "execution_count": 104,
   "metadata": {},
   "outputs": [
    {
     "data": {
      "text/plain": [
       "np.False_"
      ]
     },
     "execution_count": 104,
     "metadata": {},
     "output_type": "execute_result"
    }
   ],
   "source": [
    "data['availability_365'].isnull().any()"
   ]
  },
  {
   "cell_type": "code",
   "execution_count": 105,
   "metadata": {},
   "outputs": [
    {
     "data": {
      "text/plain": [
       "np.False_"
      ]
     },
     "execution_count": 105,
     "metadata": {},
     "output_type": "execute_result"
    }
   ],
   "source": [
    "data['calendar_last_scraped'].isnull().any()"
   ]
  },
  {
   "cell_type": "code",
   "execution_count": 106,
   "metadata": {},
   "outputs": [
    {
     "data": {
      "text/plain": [
       "np.False_"
      ]
     },
     "execution_count": 106,
     "metadata": {},
     "output_type": "execute_result"
    }
   ],
   "source": [
    "data['number_of_reviews'].isnull().any()"
   ]
  },
  {
   "cell_type": "code",
   "execution_count": 107,
   "metadata": {},
   "outputs": [
    {
     "data": {
      "text/plain": [
       "np.False_"
      ]
     },
     "execution_count": 107,
     "metadata": {},
     "output_type": "execute_result"
    }
   ],
   "source": [
    "data['number_of_reviews_ltm'].isnull().any()"
   ]
  },
  {
   "cell_type": "code",
   "execution_count": 108,
   "metadata": {},
   "outputs": [
    {
     "data": {
      "text/plain": [
       "np.False_"
      ]
     },
     "execution_count": 108,
     "metadata": {},
     "output_type": "execute_result"
    }
   ],
   "source": [
    "data['number_of_reviews_l30d'].isnull().any()"
   ]
  },
  {
   "cell_type": "code",
   "execution_count": 109,
   "metadata": {},
   "outputs": [
    {
     "data": {
      "text/plain": [
       "np.True_"
      ]
     },
     "execution_count": 109,
     "metadata": {},
     "output_type": "execute_result"
    }
   ],
   "source": [
    "data['review_scores_rating'].isnull().any()"
   ]
  },
  {
   "cell_type": "code",
   "execution_count": 110,
   "metadata": {},
   "outputs": [
    {
     "name": "stderr",
     "output_type": "stream",
     "text": [
      "C:\\Users\\HP\\AppData\\Local\\Temp\\ipykernel_4040\\3051748763.py:4: FutureWarning: Series.fillna with 'method' is deprecated and will raise in a future version. Use obj.ffill() or obj.bfill() instead.\n",
      "  data[\"review_scores_rating\"] =data[\"review_scores_rating\"].fillna(method=\"ffill\")\n"
     ]
    }
   ],
   "source": [
    "#Columna---review_scores_rating------\n",
    "#Sustituir valores nulos por valores no nulos hacia adelante \"forward fill\" (\"ff\")\n",
    "#Filtro por columnas\n",
    "data[\"review_scores_rating\"] =data[\"review_scores_rating\"].fillna(method=\"ffill\")"
   ]
  },
  {
   "cell_type": "code",
   "execution_count": 114,
   "metadata": {},
   "outputs": [
    {
     "data": {
      "text/plain": [
       "np.int64(2340)"
      ]
     },
     "execution_count": 114,
     "metadata": {},
     "output_type": "execute_result"
    }
   ],
   "source": [
    "#Identificar cuantos valores nulos tengo por columnas\n",
    "valores_nulos=data.isnull().sum().sum()\n",
    "valores_nulos"
   ]
  },
  {
   "cell_type": "code",
   "execution_count": 115,
   "metadata": {},
   "outputs": [
    {
     "data": {
      "text/plain": [
       "np.True_"
      ]
     },
     "execution_count": 115,
     "metadata": {},
     "output_type": "execute_result"
    }
   ],
   "source": [
    "data['review_scores_accuracy'].isnull().any()"
   ]
  },
  {
   "cell_type": "code",
   "execution_count": 116,
   "metadata": {},
   "outputs": [],
   "source": [
    "#Columna---review_scores_accuracy------\n",
    "#Sustituir valores nulos con la media\n",
    "data[\"review_scores_accuracy\"]=data[\"review_scores_accuracy\"].fillna(round(data[\"review_scores_accuracy\"].mean(),2))"
   ]
  },
  {
   "cell_type": "code",
   "execution_count": 117,
   "metadata": {},
   "outputs": [
    {
     "data": {
      "text/plain": [
       "np.int64(1560)"
      ]
     },
     "execution_count": 117,
     "metadata": {},
     "output_type": "execute_result"
    }
   ],
   "source": [
    "#Identificar cuantos valores nulos tengo por columnas\n",
    "valores_nulos=data.isnull().sum().sum()\n",
    "valores_nulos"
   ]
  },
  {
   "cell_type": "code",
   "execution_count": 118,
   "metadata": {},
   "outputs": [
    {
     "data": {
      "text/plain": [
       "np.True_"
      ]
     },
     "execution_count": 118,
     "metadata": {},
     "output_type": "execute_result"
    }
   ],
   "source": [
    "data['review_scores_cleanliness'].isnull().any()"
   ]
  },
  {
   "cell_type": "code",
   "execution_count": 119,
   "metadata": {},
   "outputs": [],
   "source": [
    "#Columna---review_scores_cleanliness------\n",
    "#Sustituir valores nulos con la media\n",
    "data[\"review_scores_cleanliness\"]=data[\"review_scores_cleanliness\"].fillna(round(data[\"review_scores_cleanliness\"].median(),2))"
   ]
  },
  {
   "cell_type": "code",
   "execution_count": 120,
   "metadata": {},
   "outputs": [
    {
     "data": {
      "text/plain": [
       "np.int64(780)"
      ]
     },
     "execution_count": 120,
     "metadata": {},
     "output_type": "execute_result"
    }
   ],
   "source": [
    "#Identificar cuantos valores nulos tengo por columnas\n",
    "valores_nulos=data.isnull().sum().sum()\n",
    "valores_nulos"
   ]
  },
  {
   "cell_type": "code",
   "execution_count": 121,
   "metadata": {},
   "outputs": [
    {
     "data": {
      "text/plain": [
       "np.True_"
      ]
     },
     "execution_count": 121,
     "metadata": {},
     "output_type": "execute_result"
    }
   ],
   "source": [
    "data['review_scores_checkin'].isnull().any()"
   ]
  },
  {
   "cell_type": "code",
   "execution_count": 124,
   "metadata": {},
   "outputs": [
    {
     "name": "stderr",
     "output_type": "stream",
     "text": [
      "C:\\Users\\HP\\AppData\\Local\\Temp\\ipykernel_4040\\4220368784.py:4: FutureWarning: Series.fillna with 'method' is deprecated and will raise in a future version. Use obj.ffill() or obj.bfill() instead.\n",
      "  data[\"review_scores_checkin\"] =data[\"review_scores_checkin\"].fillna(method=\"ffill\")\n"
     ]
    }
   ],
   "source": [
    "#Columna---review_scores_checkin------\n",
    "#Sustituir valores nulos por valores no nulos hacia adelante \"forward fill\" (\"ff\")\n",
    "#Filtro por columnas\n",
    "data[\"review_scores_checkin\"] =data[\"review_scores_checkin\"].fillna(method=\"ffill\")"
   ]
  },
  {
   "cell_type": "code",
   "execution_count": 125,
   "metadata": {},
   "outputs": [
    {
     "data": {
      "text/plain": [
       "np.int64(0)"
      ]
     },
     "execution_count": 125,
     "metadata": {},
     "output_type": "execute_result"
    }
   ],
   "source": [
    "#Identificar cuantos valores nulos tengo por columnas\n",
    "valores_nulos=data.isnull().sum().sum()\n",
    "valores_nulos"
   ]
  },
  {
   "cell_type": "code",
   "execution_count": 126,
   "metadata": {},
   "outputs": [
    {
     "data": {
      "text/plain": [
       "np.int64(0)"
      ]
     },
     "execution_count": 126,
     "metadata": {},
     "output_type": "execute_result"
    }
   ],
   "source": [
    "#Identificar cuantos valores nulos tengo por columnas\n",
    "valores_nulos=data.isnull().sum().sum()\n",
    "valores_nulos"
   ]
  },
  {
   "cell_type": "code",
   "execution_count": 127,
   "metadata": {},
   "outputs": [],
   "source": [
    "#Convertir Dataframe a csv\n",
    "data.to_csv(\"Actividad_3.2(PAIS_VENECIA).csv\")"
   ]
  }
 ],
 "metadata": {
  "kernelspec": {
   "display_name": "Python 3",
   "language": "python",
   "name": "python3"
  },
  "language_info": {
   "codemirror_mode": {
    "name": "ipython",
    "version": 3
   },
   "file_extension": ".py",
   "mimetype": "text/x-python",
   "name": "python",
   "nbconvert_exporter": "python",
   "pygments_lexer": "ipython3",
   "version": "3.12.4"
  }
 },
 "nbformat": 4,
 "nbformat_minor": 2
}
